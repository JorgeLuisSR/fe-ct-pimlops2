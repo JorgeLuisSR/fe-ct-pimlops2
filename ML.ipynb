{
 "cells": [
  {
   "cell_type": "markdown",
   "metadata": {},
   "source": [
    "#### Nota:\n",
    "Es de importancia destacar que no se utilizarán todos los campos de relevancia, pero que bien podrían ser utilizados por fuera del contexto de este MVP.\n",
    "Campos como la colección a la que pertenecen, las compañías que producen las filmaciones y los países en los que se producen pueden ser igualmente categorizados mediante el mismo proceso de los lenguajes y generos, interrelacionando tanto colecciones y compañías con géneros particulares de forma en que obtengamos un índice numérico que nos permita caracterizar a la compañía, para dicho caso, en un vector de coordenadas sobre el cual podremos obtener aquellas compañías que produzcan contenido similar y, por tanto, tengan coordenadas cercanas."
   ]
  },
  {
   "cell_type": "markdown",
   "metadata": {},
   "source": [
    "En el caso de los lenguajes pueden ser bien usados como un filtro que nos permita considerar exclusivamente aquellas películas que compartan lenguaje con la película elegida, mientras que un análisis, similar al hecho sobre los lenguajes, puede ser realizado sobre los países en los que se producen las películas, de forma que podamos recomendar aquellas películas que también compartan dichos países de manera prioritaria."
   ]
  },
  {
   "cell_type": "markdown",
   "metadata": {},
   "source": [
    "**Ninguna de estas posibilidades va a ser considerada para la formación del modelo de recomendación visto en este MVP**"
   ]
  },
  {
   "cell_type": "markdown",
   "metadata": {},
   "source": [
    "El objetivo de considerar solo aquellos lenguajes que se compartan entre las películas es no solo recomendar contenido únicamente en los lenguajes hablados por la persona que ve la película sino también cumple la función de reducir el tamaño sobre el cual se efectúan las operaciones del modelo."
   ]
  },
  {
   "cell_type": "markdown",
   "metadata": {},
   "source": [
    "Otro factor a considerar es a través de las descripciones de cada película, cosa que no ha sido considerada en el analisis EDA pero que a través de un análisis de palabras claves o de similitud con el resto de descripciones en las películas a considerar por el modelo, nos permitiría extraer contenido más relevante, como serían películas de la misma trama pero que no necesariamente comparten etiquetas o fueren igual de exitosas en popularidad."
   ]
  },
  {
   "cell_type": "markdown",
   "metadata": {},
   "source": [
    "La librería de machine learning utilizada en este modelo es **sklearn**, que incluye también funciones y modelos para este propósito, más para el propósito actual utilizo la función de similitud del coseno, que nos permite encontrar aquel vector de coordenadas (el entre los films del set) qué más se aproxime al que representa nuestra película, considerando las features que hemos tomado anteriormente como coordenadas."
   ]
  },
  {
   "cell_type": "markdown",
   "metadata": {},
   "source": [
    "A través de este análisis se podrá determinar la cercanía de cada una de las películas, que el modelo analiza, con nuestra pelicula inicial. Es tomando aquellas que tengan un mayor resultados según este modelo qué obtendríamos las películas a recomendar"
   ]
  },
  {
   "cell_type": "code",
   "execution_count": 52,
   "metadata": {},
   "outputs": [],
   "source": [
    "import pandas as pd \n",
    "from sklearn.metrics.pairwise import cosine_similarity\n",
    "from sklearn.preprocessing import StandardScaler"
   ]
  },
  {
   "cell_type": "code",
   "execution_count": 53,
   "metadata": {},
   "outputs": [
    {
     "data": {
      "text/plain": [
       "(13051, 40)"
      ]
     },
     "execution_count": 53,
     "metadata": {},
     "output_type": "execute_result"
    }
   ],
   "source": [
    "data = pd.read_csv('datasets/ml_encoded_data.csv')\n",
    "data.shape"
   ]
  },
  {
   "cell_type": "code",
   "execution_count": 54,
   "metadata": {},
   "outputs": [
    {
     "data": {
      "text/plain": [
       "(13051, 5)"
      ]
     },
     "execution_count": 54,
     "metadata": {},
     "output_type": "execute_result"
    }
   ],
   "source": [
    "scaler = StandardScaler()\n",
    "features = data[['popularity', 'return', 'vote_average', 'release_year', 'runtime']]\n",
    "scaled_features = pd.DataFrame(scaler.fit_transform(features.values))\n",
    "scaled_features.shape"
   ]
  },
  {
   "cell_type": "code",
   "execution_count": 55,
   "metadata": {},
   "outputs": [
    {
     "data": {
      "text/plain": [
       "(13051, 32)"
      ]
     },
     "execution_count": 55,
     "metadata": {},
     "output_type": "execute_result"
    }
   ],
   "source": [
    "cols =data[[\"id\",'16','35','10751','12','14','10749','18','28','80','53','27','36','878','9648','10752','10402','99','37','10769','10770','en','fr','es','de','it','ja','ru','zh','pt','cn','other_lang']]\n",
    "cols.shape"
   ]
  },
  {
   "cell_type": "code",
   "execution_count": null,
   "metadata": {},
   "outputs": [
    {
     "data": {
      "text/html": [
       "<div>\n",
       "<style scoped>\n",
       "    .dataframe tbody tr th:only-of-type {\n",
       "        vertical-align: middle;\n",
       "    }\n",
       "\n",
       "    .dataframe tbody tr th {\n",
       "        vertical-align: top;\n",
       "    }\n",
       "\n",
       "    .dataframe thead th {\n",
       "        text-align: right;\n",
       "    }\n",
       "</style>\n",
       "<table border=\"1\" class=\"dataframe\">\n",
       "  <thead>\n",
       "    <tr style=\"text-align: right;\">\n",
       "      <th></th>\n",
       "      <th>0</th>\n",
       "      <th>1</th>\n",
       "      <th>2</th>\n",
       "      <th>3</th>\n",
       "      <th>4</th>\n",
       "      <th>id</th>\n",
       "      <th>16</th>\n",
       "      <th>35</th>\n",
       "      <th>10751</th>\n",
       "      <th>12</th>\n",
       "      <th>...</th>\n",
       "      <th>fr</th>\n",
       "      <th>es</th>\n",
       "      <th>de</th>\n",
       "      <th>it</th>\n",
       "      <th>ja</th>\n",
       "      <th>ru</th>\n",
       "      <th>zh</th>\n",
       "      <th>pt</th>\n",
       "      <th>cn</th>\n",
       "      <th>other_lang</th>\n",
       "    </tr>\n",
       "  </thead>\n",
       "  <tbody>\n",
       "    <tr>\n",
       "      <th>0</th>\n",
       "      <td>-0.451793</td>\n",
       "      <td>-0.015187</td>\n",
       "      <td>0.929453</td>\n",
       "      <td>-0.556816</td>\n",
       "      <td>-1.211234</td>\n",
       "      <td>2</td>\n",
       "      <td>0</td>\n",
       "      <td>0</td>\n",
       "      <td>0</td>\n",
       "      <td>0</td>\n",
       "      <td>...</td>\n",
       "      <td>0</td>\n",
       "      <td>0</td>\n",
       "      <td>1</td>\n",
       "      <td>0</td>\n",
       "      <td>0</td>\n",
       "      <td>0</td>\n",
       "      <td>0</td>\n",
       "      <td>0</td>\n",
       "      <td>0</td>\n",
       "      <td>0</td>\n",
       "    </tr>\n",
       "  </tbody>\n",
       "</table>\n",
       "<p>1 rows × 37 columns</p>\n",
       "</div>"
      ],
      "text/plain": [
       "          0         1         2         3         4  id  16  35  10751  12  \\\n",
       "0 -0.451793 -0.015187  0.929453 -0.556816 -1.211234   2   0   0      0   0   \n",
       "\n",
       "   ...  fr  es  de  it  ja  ru  zh  pt  cn  other_lang  \n",
       "0  ...   0   0   1   0   0   0   0   0   0           0  \n",
       "\n",
       "[1 rows x 37 columns]"
      ]
     },
     "execution_count": 56,
     "metadata": {},
     "output_type": "execute_result"
    }
   ],
   "source": [
    "final_features= pd.concat([scaled_features, cols], axis=1)\n",
    "final_features.head(1)\n"
   ]
  },
  {
   "cell_type": "code",
   "execution_count": 57,
   "metadata": {},
   "outputs": [],
   "source": [
    "final_features.fillna(0, inplace=True)"
   ]
  },
  {
   "cell_type": "code",
   "execution_count": 58,
   "metadata": {},
   "outputs": [
    {
     "data": {
      "text/html": [
       "<div>\n",
       "<style scoped>\n",
       "    .dataframe tbody tr th:only-of-type {\n",
       "        vertical-align: middle;\n",
       "    }\n",
       "\n",
       "    .dataframe tbody tr th {\n",
       "        vertical-align: top;\n",
       "    }\n",
       "\n",
       "    .dataframe thead th {\n",
       "        text-align: right;\n",
       "    }\n",
       "</style>\n",
       "<table border=\"1\" class=\"dataframe\">\n",
       "  <thead>\n",
       "    <tr style=\"text-align: right;\">\n",
       "      <th></th>\n",
       "      <th>title</th>\n",
       "      <th>release_date</th>\n",
       "      <th>belongs_to_collection</th>\n",
       "      <th>budget</th>\n",
       "      <th>revenue</th>\n",
       "      <th>genres</th>\n",
       "      <th>original_language</th>\n",
       "      <th>overview</th>\n",
       "      <th>popularity</th>\n",
       "      <th>production_companies</th>\n",
       "      <th>production_countries</th>\n",
       "      <th>runtime</th>\n",
       "      <th>spoken_languages</th>\n",
       "      <th>status</th>\n",
       "      <th>tagline</th>\n",
       "      <th>vote_average</th>\n",
       "      <th>vote_count</th>\n",
       "      <th>return</th>\n",
       "      <th>release_year</th>\n",
       "    </tr>\n",
       "    <tr>\n",
       "      <th>id</th>\n",
       "      <th></th>\n",
       "      <th></th>\n",
       "      <th></th>\n",
       "      <th></th>\n",
       "      <th></th>\n",
       "      <th></th>\n",
       "      <th></th>\n",
       "      <th></th>\n",
       "      <th></th>\n",
       "      <th></th>\n",
       "      <th></th>\n",
       "      <th></th>\n",
       "      <th></th>\n",
       "      <th></th>\n",
       "      <th></th>\n",
       "      <th></th>\n",
       "      <th></th>\n",
       "      <th></th>\n",
       "      <th></th>\n",
       "    </tr>\n",
       "  </thead>\n",
       "  <tbody>\n",
       "    <tr>\n",
       "      <th>862</th>\n",
       "      <td>Toy Story</td>\n",
       "      <td>1995-10-30</td>\n",
       "      <td>10194.0</td>\n",
       "      <td>30000000</td>\n",
       "      <td>373554033.0</td>\n",
       "      <td>[16, 35, 10751]</td>\n",
       "      <td>en</td>\n",
       "      <td>Led by Woody, Andy's toys live happily in his ...</td>\n",
       "      <td>21.946943</td>\n",
       "      <td>[3]</td>\n",
       "      <td>['US']</td>\n",
       "      <td>81.0</td>\n",
       "      <td>['en']</td>\n",
       "      <td>Released</td>\n",
       "      <td>NaN</td>\n",
       "      <td>7.7</td>\n",
       "      <td>5415</td>\n",
       "      <td>12.451801</td>\n",
       "      <td>1995</td>\n",
       "    </tr>\n",
       "    <tr>\n",
       "      <th>8844</th>\n",
       "      <td>Jumanji</td>\n",
       "      <td>1995-12-15</td>\n",
       "      <td>NaN</td>\n",
       "      <td>65000000</td>\n",
       "      <td>262797249.0</td>\n",
       "      <td>[12, 14, 10751]</td>\n",
       "      <td>en</td>\n",
       "      <td>When siblings Judy and Peter discover an encha...</td>\n",
       "      <td>17.015539</td>\n",
       "      <td>[559, 2550, 10201]</td>\n",
       "      <td>['US']</td>\n",
       "      <td>104.0</td>\n",
       "      <td>['en', 'fr']</td>\n",
       "      <td>Released</td>\n",
       "      <td>Roll the dice and unleash the excitement!</td>\n",
       "      <td>6.9</td>\n",
       "      <td>2413</td>\n",
       "      <td>4.043035</td>\n",
       "      <td>1995</td>\n",
       "    </tr>\n",
       "    <tr>\n",
       "      <th>15602</th>\n",
       "      <td>Grumpier Old Men</td>\n",
       "      <td>1995-12-22</td>\n",
       "      <td>119050.0</td>\n",
       "      <td>0</td>\n",
       "      <td>0.0</td>\n",
       "      <td>[10749, 35]</td>\n",
       "      <td>en</td>\n",
       "      <td>A family wedding reignites the ancient feud be...</td>\n",
       "      <td>11.712900</td>\n",
       "      <td>[6194, 19464]</td>\n",
       "      <td>['US']</td>\n",
       "      <td>101.0</td>\n",
       "      <td>['en']</td>\n",
       "      <td>Released</td>\n",
       "      <td>Still Yelling. Still Fighting. Still Ready for...</td>\n",
       "      <td>6.5</td>\n",
       "      <td>92</td>\n",
       "      <td>0.000000</td>\n",
       "      <td>1995</td>\n",
       "    </tr>\n",
       "    <tr>\n",
       "      <th>31357</th>\n",
       "      <td>Waiting to Exhale</td>\n",
       "      <td>1995-12-22</td>\n",
       "      <td>NaN</td>\n",
       "      <td>16000000</td>\n",
       "      <td>81452156.0</td>\n",
       "      <td>[35, 18, 10749]</td>\n",
       "      <td>en</td>\n",
       "      <td>Cheated on, mistreated and stepped on, the wom...</td>\n",
       "      <td>3.859495</td>\n",
       "      <td>[306]</td>\n",
       "      <td>['US']</td>\n",
       "      <td>127.0</td>\n",
       "      <td>['en']</td>\n",
       "      <td>Released</td>\n",
       "      <td>Friends are the people who let you be yourself...</td>\n",
       "      <td>6.1</td>\n",
       "      <td>34</td>\n",
       "      <td>5.090760</td>\n",
       "      <td>1995</td>\n",
       "    </tr>\n",
       "    <tr>\n",
       "      <th>11862</th>\n",
       "      <td>Father of the Bride Part II</td>\n",
       "      <td>1995-02-10</td>\n",
       "      <td>96871.0</td>\n",
       "      <td>0</td>\n",
       "      <td>76578911.0</td>\n",
       "      <td>[35]</td>\n",
       "      <td>en</td>\n",
       "      <td>Just when George Banks has recovered from his ...</td>\n",
       "      <td>8.387519</td>\n",
       "      <td>[5842, 9195]</td>\n",
       "      <td>['US']</td>\n",
       "      <td>106.0</td>\n",
       "      <td>['en']</td>\n",
       "      <td>Released</td>\n",
       "      <td>Just When His World Is Back To Normal... He's ...</td>\n",
       "      <td>5.7</td>\n",
       "      <td>173</td>\n",
       "      <td>0.000000</td>\n",
       "      <td>1995</td>\n",
       "    </tr>\n",
       "  </tbody>\n",
       "</table>\n",
       "</div>"
      ],
      "text/plain": [
       "                             title release_date  belongs_to_collection  \\\n",
       "id                                                                       \n",
       "862                      Toy Story   1995-10-30                10194.0   \n",
       "8844                       Jumanji   1995-12-15                    NaN   \n",
       "15602             Grumpier Old Men   1995-12-22               119050.0   \n",
       "31357            Waiting to Exhale   1995-12-22                    NaN   \n",
       "11862  Father of the Bride Part II   1995-02-10                96871.0   \n",
       "\n",
       "         budget      revenue           genres original_language  \\\n",
       "id                                                                \n",
       "862    30000000  373554033.0  [16, 35, 10751]                en   \n",
       "8844   65000000  262797249.0  [12, 14, 10751]                en   \n",
       "15602         0          0.0      [10749, 35]                en   \n",
       "31357  16000000   81452156.0  [35, 18, 10749]                en   \n",
       "11862         0   76578911.0             [35]                en   \n",
       "\n",
       "                                                overview  popularity  \\\n",
       "id                                                                     \n",
       "862    Led by Woody, Andy's toys live happily in his ...   21.946943   \n",
       "8844   When siblings Judy and Peter discover an encha...   17.015539   \n",
       "15602  A family wedding reignites the ancient feud be...   11.712900   \n",
       "31357  Cheated on, mistreated and stepped on, the wom...    3.859495   \n",
       "11862  Just when George Banks has recovered from his ...    8.387519   \n",
       "\n",
       "      production_companies production_countries  runtime spoken_languages  \\\n",
       "id                                                                          \n",
       "862                    [3]               ['US']     81.0           ['en']   \n",
       "8844    [559, 2550, 10201]               ['US']    104.0     ['en', 'fr']   \n",
       "15602        [6194, 19464]               ['US']    101.0           ['en']   \n",
       "31357                [306]               ['US']    127.0           ['en']   \n",
       "11862         [5842, 9195]               ['US']    106.0           ['en']   \n",
       "\n",
       "         status                                            tagline  \\\n",
       "id                                                                   \n",
       "862    Released                                                NaN   \n",
       "8844   Released          Roll the dice and unleash the excitement!   \n",
       "15602  Released  Still Yelling. Still Fighting. Still Ready for...   \n",
       "31357  Released  Friends are the people who let you be yourself...   \n",
       "11862  Released  Just When His World Is Back To Normal... He's ...   \n",
       "\n",
       "       vote_average  vote_count     return  release_year  \n",
       "id                                                        \n",
       "862             7.7        5415  12.451801          1995  \n",
       "8844            6.9        2413   4.043035          1995  \n",
       "15602           6.5          92   0.000000          1995  \n",
       "31357           6.1          34   5.090760          1995  \n",
       "11862           5.7         173   0.000000          1995  "
      ]
     },
     "execution_count": 58,
     "metadata": {},
     "output_type": "execute_result"
    }
   ],
   "source": [
    "movie_df = pd.read_csv(\"datasets/movies_final.csv\", index_col = [\"id\"])\n",
    "movie_df.head()"
   ]
  },
  {
   "cell_type": "code",
   "execution_count": 114,
   "metadata": {},
   "outputs": [],
   "source": [
    "def recomendacion(titulo, num_recommendations=5):\n",
    "\n",
    "    try:\n",
    "        movie_data= movie_df[movie_df['title'].str.lower() == titulo.lower()].iloc[0]\n",
    "    except IndexError:\n",
    "        return f\"Movie '{titulo}' not found in the dataset.\"\n",
    "    \n",
    "    movie_features = final_features[final_features[\"id\"]==movie_data.name].drop(columns=\"id\").values.reshape(1, -1)\n",
    "    # Compute cosine similarity with the feature matrix\n",
    "    \n",
    "    similaryties = list(enumerate(cosine_similarity(movie_features,final_features.drop(columns=\"id\"))[0]))\n",
    "    \n",
    "    sim = sorted(similaryties, reverse=True, key=lambda t: t[1])\n",
    "    # Get indices of the most similar movies (skip the first one because it's the same movie)\n",
    "    \n",
    "    similar_indices =sim[1:num_recommendations + 1]\n",
    "    idx = [final_features.loc[i[0], \"id\"] for i in similar_indices ]\n",
    "    # Return recommended movie titles\n",
    "    return movie_df.loc[idx][\"title\"].tolist()"
   ]
  },
  {
   "cell_type": "code",
   "execution_count": 115,
   "metadata": {},
   "outputs": [
    {
     "data": {
      "text/plain": [
       "['Toy Story 2',\n",
       " 'Monsters, Inc.',\n",
       " 'Lilo & Stitch',\n",
       " 'The Simpsons Movie',\n",
       " 'Finding Nemo']"
      ]
     },
     "execution_count": 115,
     "metadata": {},
     "output_type": "execute_result"
    }
   ],
   "source": [
    "recomendacion(\"Toy Story\")"
   ]
  },
  {
   "cell_type": "markdown",
   "metadata": {},
   "source": [
    "##### Coclusion\n",
    "En este estado las recomendaciones son bastante relevantes, pero tambien pueden mejorarse al aumentar la complejidad del modelo"
   ]
  }
 ],
 "metadata": {
  "kernelspec": {
   "display_name": "Python 3",
   "language": "python",
   "name": "python3"
  },
  "language_info": {
   "codemirror_mode": {
    "name": "ipython",
    "version": 3
   },
   "file_extension": ".py",
   "mimetype": "text/x-python",
   "name": "python",
   "nbconvert_exporter": "python",
   "pygments_lexer": "ipython3",
   "version": "3.11.2"
  }
 },
 "nbformat": 4,
 "nbformat_minor": 2
}
