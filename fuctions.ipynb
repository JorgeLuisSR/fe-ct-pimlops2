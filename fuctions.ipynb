{
 "cells": [
  {
   "cell_type": "markdown",
   "metadata": {},
   "source": [
    "##### Proceso de diseño de funciones"
   ]
  },
  {
   "cell_type": "markdown",
   "metadata": {},
   "source": [
    "* dependencias"
   ]
  },
  {
   "cell_type": "code",
   "execution_count": 11,
   "metadata": {},
   "outputs": [],
   "source": [
    "import pandas as pd\n",
    "import ast"
   ]
  },
  {
   "cell_type": "code",
   "execution_count": 5,
   "metadata": {},
   "outputs": [
    {
     "data": {
      "text/plain": [
       "(13051, 19)"
      ]
     },
     "execution_count": 5,
     "metadata": {},
     "output_type": "execute_result"
    }
   ],
   "source": [
    "movies = pd.read_csv(\"datasets/movies_final.csv\", index_col = [\"id\"])\n",
    "movies.shape"
   ]
  },
  {
   "cell_type": "code",
   "execution_count": 14,
   "metadata": {},
   "outputs": [
    {
     "data": {
      "text/plain": [
       "(206158, 3)"
      ]
     },
     "execution_count": 14,
     "metadata": {},
     "output_type": "execute_result"
    }
   ],
   "source": [
    "cast = pd.read_csv(\"datasets/cast.csv\", index_col = [\"id\"])\n",
    "cast.shape"
   ]
  },
  {
   "cell_type": "code",
   "execution_count": 76,
   "metadata": {},
   "outputs": [
    {
     "data": {
      "text/plain": [
       "(19895, 3)"
      ]
     },
     "execution_count": 76,
     "metadata": {},
     "output_type": "execute_result"
    }
   ],
   "source": [
    "directors = pd.read_csv(\"datasets/directors.csv\", index_col = [\"id\"])\n",
    "directors.shape"
   ]
  },
  {
   "cell_type": "markdown",
   "metadata": {},
   "source": [
    "* **cantidad de filmaciones por mes**"
   ]
  },
  {
   "cell_type": "code",
   "execution_count": null,
   "metadata": {},
   "outputs": [],
   "source": [
    "months = [\"enero\",\"febrero\",\"marzo\",\"abril\",\"mayo\",\"junio\",\"julio\",\"agosto\",\"septiembre\",\"octubre\",\"noviembre\",\"dicienmbre\"]\n",
    "def cantidad_filmaciones_mes( Mes : str): #Se ingresa un mes en idioma Español. \n",
    "    index = months.index(Mes.lower()) +1\n",
    "    movies_in_month = movies[pd.to_datetime(movies[\"release_date\"]).dt.month == index]\n",
    "    return f\"{len(movies_in_month)} películas fueron estrenadas en el mes de {Mes.lower().capitalize()}\""
   ]
  },
  {
   "cell_type": "code",
   "execution_count": 29,
   "metadata": {},
   "outputs": [
    {
     "name": "stdout",
     "output_type": "stream",
     "text": [
      "1029 cantidad de películas fueron estrenadas en el mes de Enero\n",
      "903 cantidad de películas fueron estrenadas en el mes de Febrero\n",
      "1031 cantidad de películas fueron estrenadas en el mes de Marzo\n",
      "972 cantidad de películas fueron estrenadas en el mes de Abril\n",
      "1010 cantidad de películas fueron estrenadas en el mes de Mayo\n",
      "970 cantidad de películas fueron estrenadas en el mes de Junio\n",
      "940 cantidad de películas fueron estrenadas en el mes de Julio\n",
      "1102 cantidad de películas fueron estrenadas en el mes de Agosto\n",
      "1547 cantidad de películas fueron estrenadas en el mes de Septiembre\n",
      "1345 cantidad de películas fueron estrenadas en el mes de Octubre\n",
      "945 cantidad de películas fueron estrenadas en el mes de Noviembre\n",
      "1257 cantidad de películas fueron estrenadas en el mes de Dicienmbre\n"
     ]
    }
   ],
   "source": [
    "for m in months:\n",
    "    print(cantidad_filmaciones_mes(m))"
   ]
  },
  {
   "cell_type": "markdown",
   "metadata": {},
   "source": [
    "* **cantidad de filmaciones por dia**"
   ]
  },
  {
   "cell_type": "code",
   "execution_count": 30,
   "metadata": {},
   "outputs": [],
   "source": [
    "weekdays = [\"lunes\", \"martes\", \"miércoles\", \"jueves\", \"viernes\", \"sábado\", \"domingo\"]\n",
    "def cantidad_filmaciones_dia( Dia :str): #Se ingresa un mes en idioma Español.\n",
    "    index = weekdays.index(Dia.lower())\n",
    "    movies_in_day = movies[pd.to_datetime(movies[\"release_date\"]).dt.weekday == index]\n",
    "    return f\"{len(movies_in_day)} películas fueron estrenadas en los días {Dia.lower().capitalize()}\""
   ]
  },
  {
   "cell_type": "code",
   "execution_count": 31,
   "metadata": {},
   "outputs": [
    {
     "name": "stdout",
     "output_type": "stream",
     "text": [
      "727 películas fueron estrenadas en los días Lunes\n",
      "1182 películas fueron estrenadas en los días Martes\n",
      "2210 películas fueron estrenadas en los días Miércoles\n",
      "2276 películas fueron estrenadas en los días Jueves\n",
      "4902 películas fueron estrenadas en los días Viernes\n",
      "1030 películas fueron estrenadas en los días Sábado\n",
      "724 películas fueron estrenadas en los días Domingo\n"
     ]
    }
   ],
   "source": [
    "for d in weekdays:\n",
    "    print(cantidad_filmaciones_dia(d))"
   ]
  },
  {
   "cell_type": "markdown",
   "metadata": {},
   "source": [
    "* **popularidad de la filmación**"
   ]
  },
  {
   "cell_type": "code",
   "execution_count": null,
   "metadata": {},
   "outputs": [],
   "source": [
    "def score_titulo( titulo_de_la_filmación ): # Se ingresa el título de una filmación esperando como respuesta el título, el año de estreno y el score.\n",
    "    movie_candidates = movies.loc[movies[\"title\"].str.lower() == titulo_de_la_filmación.lower()]\n",
    "    if len(movie_candidates) > 0:\n",
    "        movie = movie_candidates.iloc[0]\n",
    "    else:\n",
    "        movie = None\n",
    "    \n",
    "    if movie is None:\n",
    "        return f\"La filmacion {titulo_de_la_filmación} no se encuestra en la base de datos\"\n",
    "    return f\"La película {movie['title']} fue estrenada en el año {movie['release_year']} con un score/popularidad de {movie['popularity']:.6f}\""
   ]
  },
  {
   "cell_type": "code",
   "execution_count": 49,
   "metadata": {},
   "outputs": [
    {
     "data": {
      "text/plain": [
       "'La película Toy Story fue estrenada en el año 1995 con un score/popularidad de 21.946943'"
      ]
     },
     "execution_count": 49,
     "metadata": {},
     "output_type": "execute_result"
    }
   ],
   "source": [
    "score_titulo(\"Toy Story\")"
   ]
  },
  {
   "cell_type": "markdown",
   "metadata": {},
   "source": [
    "* **cantidad de votos y promedio por voto de la filmación**"
   ]
  },
  {
   "cell_type": "code",
   "execution_count": 8,
   "metadata": {},
   "outputs": [],
   "source": [
    "def votos_titulo( titulo_de_la_filmación ): # Se ingresa el título de una filmación esperando como respuesta el título, la cantidad de votos y el valor promedio de las votaciones. La misma variable deberá de contar con al menos 2000 valoraciones, caso contrario, debemos contar con un    mensaje avisando que no cumple esta condición y que por ende, no se devuelve ningun valor.\n",
    "    movie_candidates = movies.loc[movies[\"title\"].str.lower() == titulo_de_la_filmación.lower()]\n",
    "    if len(movie_candidates) > 0:\n",
    "        movie = movie_candidates.iloc[0]\n",
    "    else:\n",
    "        movie = None\n",
    "    \n",
    "    if movie is None:\n",
    "        return f\"La filmacion {titulo_de_la_filmación} no se encuestra en la base de datos\"\n",
    "    \n",
    "    votes = movie[\"vote_count\"]\n",
    "    votes_avg = movie[\"vote_average\"]\n",
    "    msj = \"Sin votos suficientes.\" if int(votes) < 2000 else f'La misma cuenta con un total de {int(movie[\"vote_count\"])} valoraciones, con promedio de {votes_avg:.4f}.'\n",
    "    return f'La película {movie[\"title\"]} fue estrenada en el año {movie[\"release_year\"]}. {str(msj)}'"
   ]
  },
  {
   "cell_type": "code",
   "execution_count": 62,
   "metadata": {},
   "outputs": [
    {
     "data": {
      "text/plain": [
       "'La película Toy Story fue estrenada en el año 1995. La misma cuenta con un total de 5415 valoraciones, con promedio de 7.7000.'"
      ]
     },
     "execution_count": 62,
     "metadata": {},
     "output_type": "execute_result"
    }
   ],
   "source": [
    "votos_titulo(\"Toy Story\")"
   ]
  },
  {
   "cell_type": "markdown",
   "metadata": {},
   "source": [
    "* **cantidad de filmaciones en las que aparece el actor y su retorno**"
   ]
  },
  {
   "cell_type": "code",
   "execution_count": 58,
   "metadata": {},
   "outputs": [],
   "source": [
    "\n",
    "def get_actor( nombre_actor ): # Se ingresa el nombre de un actor que se encuentre dentro de un dataset debiendo devolver el éxito del mismo medido a través del retorno. Además, la cantidad de películas que en las que ha participado y el promedio de retorno. La definición no deberá considerar directores.\n",
    "    actor = cast[cast[\"name\"].str.lower() == nombre_actor.lower()]\n",
    "    \n",
    "    if actor.empty:\n",
    "        return f'No se ha encontrado un actor llamado {nombre_actor}'\n",
    "    \n",
    "    actor = actor.iloc[0]\n",
    "    movies_ids = ast.literal_eval(actor[\"performances\"])\n",
    "    \n",
    "    ret = movies[movies.index.isin(movies_ids)][\"return\"].sum()\n",
    "    \n",
    "    perfs = len(movies_ids)\n",
    "    \n",
    "    return f'El actor {actor[\"name\"]} ha participado de {perfs} cantidad de filmaciones, el mismo ha conseguido un retorno de {ret} con un promedio de {ret/perfs :.6f} por filmación'"
   ]
  },
  {
   "cell_type": "code",
   "execution_count": 60,
   "metadata": {},
   "outputs": [
    {
     "data": {
      "text/plain": [
       "'El actor Don Rickles ha participado de 29 cantidad de filmaciones, el mismo ha conseguido un retorno de 27.800190947905985 con un promedio de 0.958627 por filmación'"
      ]
     },
     "execution_count": 60,
     "metadata": {},
     "output_type": "execute_result"
    }
   ],
   "source": [
    "get_actor(\"Don Rickles\")"
   ]
  },
  {
   "cell_type": "markdown",
   "metadata": {},
   "source": [
    "* **cantidad de filmaciones en dirigidas por el director, su retorno y una descripción de cada una**"
   ]
  },
  {
   "cell_type": "code",
   "execution_count": 86,
   "metadata": {},
   "outputs": [],
   "source": [
    "def get_movie_description(row):\n",
    "    return f'{row[\"title\"]} | {row[\"release_date\"]} | retorno: {row[\"return\"]} , costo: {row[\"budget\"]} , ganancia: {row[\"revenue\"]}'"
   ]
  },
  {
   "cell_type": "code",
   "execution_count": 97,
   "metadata": {},
   "outputs": [],
   "source": [
    "def get_director( nombre_director ): # Se ingresa el nombre de un director que se encuentre dentro de un dataset debiendo devolver el éxito del mismo medido a través del retorno. Además, deberá devolver el nombre de cada película con la fecha de lanzamiento, retorno individual, costo y ganancia de la misma.\n",
    "    direc = directors[directors[\"name\"].str.lower() == nombre_director.lower()]\n",
    "    \n",
    "    if direc.empty:\n",
    "        return f'No se ha encontrado un director llamado {nombre_director}'\n",
    "    direc = direc.iloc[0]\n",
    "    \n",
    "    movies_ids = ast.literal_eval(direc[\"directions\"])\n",
    "    directed_movies = movies[movies.index.isin(movies_ids)]\n",
    "    \n",
    "    ret = directed_movies[\"return\"].sum()\n",
    "    dirs = len(directed_movies)\n",
    "    \n",
    "    movies_desc = \"\"\n",
    "    for _, m in directed_movies.iterrows():\n",
    "        movies_desc += get_movie_description(m) + \"\\n\"\n",
    "    \n",
    "    return f'El actor {direc[\"name\"]} ha participado de {dirs} cantidad de filmaciones, el mismo ha conseguido un retorno de {ret} con un promedio de {ret/dirs :.6f} por filmación.\\n {movies_desc}'"
   ]
  },
  {
   "cell_type": "code",
   "execution_count": 98,
   "metadata": {},
   "outputs": [
    {
     "data": {
      "text/plain": [
       "\"El actor John Lasseter ha participado de 10 cantidad de filmaciones, el mismo ha conseguido un retorno de 27.65437835777778 con un promedio de 2.765438 por filmación.\\n Toy Story | 1995-10-30 | retorno: 12.4518011 , costo: 30000000 , ganancia: 373554033.0\\nA Bug's Life | 1998-11-25 | retorno: 3.027157158333333 , costo: 120000000 , ganancia: 363258859.0\\nToy Story 2 | 1999-10-30 | retorno: 5.526298544444445 , costo: 90000000 , ganancia: 497366869.0\\nLuxo Jr. | 1986-08-17 | retorno: 0.0 , costo: 0 , ganancia: 0.0\\nCars | 2006-06-08 | retorno: 3.849859575 , costo: 120000000 , ganancia: 461983149.0\\nCars 2 | 2011-06-11 | retorno: 2.79926198 , costo: 200000000 , ganancia: 559852396.0\\nTin Toy | 1988-08-01 | retorno: 0.0 , costo: 0 , ganancia: 0.0\\nRed's Dream | 1987-08-17 | retorno: 0.0 , costo: 0 , ganancia: 0.0\\nKnick Knack | 1989-01-01 | retorno: 0.0 , costo: 0 , ganancia: 0.0\\nMater and the Ghostlight | 2006-07-27 | retorno: 0.0 , costo: 0 , ganancia: 0.0\\n\""
      ]
     },
     "execution_count": 98,
     "metadata": {},
     "output_type": "execute_result"
    }
   ],
   "source": [
    "get_director(\"John Lasseter\")"
   ]
  }
 ],
 "metadata": {
  "kernelspec": {
   "display_name": "venv",
   "language": "python",
   "name": "python3"
  },
  "language_info": {
   "codemirror_mode": {
    "name": "ipython",
    "version": 3
   },
   "file_extension": ".py",
   "mimetype": "text/x-python",
   "name": "python",
   "nbconvert_exporter": "python",
   "pygments_lexer": "ipython3",
   "version": "3.11.2"
  }
 },
 "nbformat": 4,
 "nbformat_minor": 2
}
